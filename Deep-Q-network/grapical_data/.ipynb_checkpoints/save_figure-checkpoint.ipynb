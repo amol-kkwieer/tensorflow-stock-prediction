{
 "cells": [
  {
   "cell_type": "markdown",
   "metadata": {},
   "source": [
    "## relative price"
   ]
  },
  {
   "cell_type": "code",
   "execution_count": 1,
   "metadata": {
    "collapsed": true
   },
   "outputs": [],
   "source": [
    "import matplotlib.finance as finance\n",
    "import matplotlib.mlab as mlab\n",
    "import matplotlib.pyplot as plt\n",
    "import datetime"
   ]
  },
  {
   "cell_type": "code",
   "execution_count": 2,
   "metadata": {
    "collapsed": true
   },
   "outputs": [],
   "source": [
    "day_len = 10    # numbers of days for every data"
   ]
  },
  {
   "cell_type": "code",
   "execution_count": 3,
   "metadata": {
    "collapsed": false
   },
   "outputs": [
    {
     "name": "stdout",
     "output_type": "stream",
     "text": [
      "the length of data: 1289\n",
      "after removing the datas with zero volume, the length of data: 1223\n",
      "the length of data: 161\n",
      "after removing the datas with zero volume, the length of data: 147\n"
     ]
    }
   ],
   "source": [
    "def get_stock(ticker, startdate, enddate):\n",
    "    fh = finance.fetch_historical_yahoo(ticker, startdate, enddate)\n",
    "    # a numpy record array with fields: date, open, high, low, close, volume, adj_close)\n",
    "    r = mlab.csv2rec(fh)\n",
    "    fh.close()\n",
    "    r.sort()\n",
    "    print 'the length of data:', len(r.close)\n",
    "    get_stock_data = []\n",
    "    for i in xrange(0, len(r.close)-1):\n",
    "        if (r.volume[i] != 0):\n",
    "            get_stock_data.append(r.close[i].tolist())\n",
    "    print 'after removing the datas with zero volume, the length of data:', len(get_stock_data)\n",
    "    return get_stock_data\n",
    "\n",
    "ticker = '2330.TW'\n",
    "\n",
    "train = get_stock(ticker, datetime.date(2011, 1, 1), datetime.date(2015, 12, 31))\n",
    "test = get_stock(ticker, datetime.date(2016, 1, 1), datetime.date(2016, 8, 17))"
   ]
  },
  {
   "cell_type": "code",
   "execution_count": 4,
   "metadata": {
    "collapsed": true
   },
   "outputs": [],
   "source": [
    "def get_relative_data(stock_data):\n",
    "    relative_data = []\n",
    "    for i in xrange(1, len(stock_data)):\n",
    "        relative_price_change = (stock_data[i] - stock_data[i-1]) / stock_data[i-1]\n",
    "        relative_data.append(relative_price_change)\n",
    "    return relative_data\n",
    "relative_train = get_relative_data(train)\n",
    "relative_test = get_relative_data(test)\n",
    "\n",
    "max_ylim = max(max(relative_train), max(relative_test))\n",
    "min_ylim = min(min(relative_train), min(relative_test))"
   ]
  },
  {
   "cell_type": "code",
   "execution_count": null,
   "metadata": {
    "collapsed": true
   },
   "outputs": [],
   "source": [
    "def save_pic(data, filename):\n",
    "    for i in xrange (0, len(data)-day_len):\n",
    "        fig, ax = plt.subplots(nrows=1, ncols=1)\n",
    "        fig.set_size_inches(1, 1)\n",
    "        ax.plot([i, i+1, i+2, i+3, i+4, i+5, i+6, i+7, i+8, i+9], [data[i], data[i+1], data[i+2], data[i+3], data[i+4], data[i+5], data[i+6], data[i+7], data[i+8], data[i+9]])\n",
    "        ax.set_ylim([min_ylim, max_ylim])\n",
    "        plt.axis('off')\n",
    "        fig.savefig('/home/carine/Desktop/tmp/'+filename+'/'+filename+'_'+str(i)+'.png', dpi=80)\n",
    "        fig.clear()\n",
    "        plt.close(fig)\n",
    "\n",
    "save_pic(relative_train, \"train\")\n",
    "save_pic(relative_test, \"test\")"
   ]
  },
  {
   "cell_type": "markdown",
   "metadata": {},
   "source": [
    "## K, D, RSV"
   ]
  },
  {
   "cell_type": "code",
   "execution_count": 7,
   "metadata": {
    "collapsed": true
   },
   "outputs": [],
   "source": [
    "from yahoo_finance import Share\n",
    "from __future__ import print_function\n",
    "import datetime\n",
    "import matplotlib.pyplot as plt"
   ]
  },
  {
   "cell_type": "code",
   "execution_count": 2,
   "metadata": {
    "collapsed": true
   },
   "outputs": [],
   "source": [
    "day_len = 10"
   ]
  },
  {
   "cell_type": "code",
   "execution_count": 3,
   "metadata": {
    "collapsed": false
   },
   "outputs": [],
   "source": [
    "def get_KD_stock(_ID, START, END):\n",
    "    stock = Share(str(_ID)+'.TW')\n",
    "    stock_data = stock.get_historical(START, END)\n",
    "    print(\"Historical data since\", START,\"to\", END, \": \", len(stock_data))\n",
    "    stock_data.reverse()\n",
    "    \n",
    "    i = 0\n",
    "    while( i < len(stock_data)):\n",
    "        if (int(stock_data[i].get('Volume')) <= 0):\n",
    "            stock_data.remove(stock_data[i])\n",
    "            i = -1\n",
    "        i += 1\n",
    "        \n",
    "    print(\"Remove the datas with zero volume, total data \",len(stock_data))\n",
    "    \n",
    "    K = []\n",
    "    D = []\n",
    "    util = []\n",
    "    for i in xrange(len(stock_data)):\n",
    "            util.append(float(stock_data[i].get('Close')))\n",
    "            if i >= 8:\n",
    "                    assert len(util) == 9\n",
    "\n",
    "                    #----RSV----            \n",
    "                    if max(util) == min(util):\n",
    "                            RSV = 0.0\n",
    "                    else:\n",
    "                            RSV = (util[len(util)-1] - min(util))/(max(util)-min(util))\n",
    "                    #----RSV----\n",
    "\n",
    "                    #----K----\n",
    "                    if i == 8:\n",
    "                            temp_K = 0.5*0.6667 + RSV*0.3333\n",
    "                            K.append(temp_K)\n",
    "                    else:\n",
    "                            temp_K = K[-1]*0.6667 + RSV*0.3333\n",
    "                            K.append(temp_K)\n",
    "                    #----K----\n",
    "\n",
    "                    #----D----\n",
    "                    if i == 8:\n",
    "                            D.append(0.5*0.6667 + temp_K*0.3333)\n",
    "                    else:\n",
    "                            D.append(D[-1]*0.6667 + temp_K*0.3333)\n",
    "                    #----D----\n",
    "                    util.pop(0)\n",
    "                    assert len(util) == 8\n",
    "    return stock_data, K, D"
   ]
  },
  {
   "cell_type": "code",
   "execution_count": 4,
   "metadata": {
    "collapsed": false
   },
   "outputs": [
    {
     "name": "stdout",
     "output_type": "stream",
     "text": [
      "Historical data since 2011-01-01 to 2015-12-31 :  1289\n",
      "Remove the datas with zero volume, total data  1224\n",
      "Historical data since 2016-01-01 to 2016-08-23 :  165\n",
      "Remove the datas with zero volume, total data  152\n"
     ]
    }
   ],
   "source": [
    "train, K_train, D_train = get_KD_stock(2330, \"2011-01-01\", \"2015-12-31\")\n",
    "test, K_test, D_test = get_KD_stock(2330, \"2016-01-01\", \"2016-08-23\")\n",
    "\n",
    "min_ylim = min(min(K_train), min(K_test), min(D_train), min(D_test))\n",
    "max_ylim = max(max(K_train), max(K_test), max(D_train), max(D_test))\n"
   ]
  },
  {
   "cell_type": "code",
   "execution_count": 8,
   "metadata": {
    "collapsed": false
   },
   "outputs": [],
   "source": [
    "def save_pic(data1, data2, filename):\n",
    "    for i in xrange (0, len(data1)-day_len):\n",
    "        fig, ax = plt.subplots(nrows=1, ncols=1)\n",
    "        fig.set_size_inches(1, 1)\n",
    "        ax.plot([i, i+1, i+2, i+3, i+4, i+5, i+6, i+7, i+8, i+9], [data1[i], data1[i+1], data1[i+2], data1[i+3], data1[i+4], data1[i+5], data1[i+6], data1[i+7], data1[i+8], data1[i+9]], 'b', [i, i+1, i+2, i+3, i+4, i+5, i+6, i+7, i+8, i+9], [data2[i], data2[i+1], data2[i+2], data2[i+3], data2[i+4], data2[i+5], data2[i+6], data2[i+7], data2[i+8], data2[i+9]], 'r')\n",
    "        ax.set_ylim([min_ylim, max_ylim])\n",
    "        plt.axis('off')\n",
    "        fig.savefig('/home/carine/Desktop/2330_2011-2016/KD/'+filename+'/'+filename+'_'+str(i)+'.png', dpi=80)\n",
    "        fig.clear()\n",
    "        plt.close(fig)\n",
    "\n",
    "save_pic(K_train, D_train, \"train\")\n",
    "save_pic(K_test, D_test, \"test\")"
   ]
  },
  {
   "cell_type": "markdown",
   "metadata": {
    "collapsed": true
   },
   "source": [
    " "
   ]
  }
 ],
 "metadata": {
  "kernelspec": {
   "display_name": "Python 2",
   "language": "python",
   "name": "python2"
  },
  "language_info": {
   "codemirror_mode": {
    "name": "ipython",
    "version": 2
   },
   "file_extension": ".py",
   "mimetype": "text/x-python",
   "name": "python",
   "nbconvert_exporter": "python",
   "pygments_lexer": "ipython2",
   "version": "2.7.6"
  }
 },
 "nbformat": 4,
 "nbformat_minor": 0
}
